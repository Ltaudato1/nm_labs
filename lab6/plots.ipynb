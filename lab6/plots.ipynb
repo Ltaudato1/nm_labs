{
 "cells": [
  {
   "cell_type": "markdown",
   "id": "37277a88",
   "metadata": {},
   "source": [
    "# Решение ОДУ конечно-разностными методами"
   ]
  },
  {
   "cell_type": "code",
   "execution_count": 1,
   "id": "4cfd57e8",
   "metadata": {},
   "outputs": [
    {
     "name": "stderr",
     "output_type": "stream",
     "text": [
      "/home/alexander/.local/lib/python3.10/site-packages/matplotlib/projections/__init__.py:63: UserWarning: Unable to import Axes3D. This may be due to multiple versions of Matplotlib being installed (e.g. as a system package and as a pip package). As a result, the 3D projection is not available.\n",
      "  warnings.warn(\"Unable to import Axes3D. This may be due to multiple versions of \"\n"
     ]
    }
   ],
   "source": [
    "import numpy as np\n",
    "import pandas as pd\n",
    "import matplotlib.pyplot as plt"
   ]
  },
  {
   "cell_type": "code",
   "execution_count": 2,
   "id": "e41d7b6b",
   "metadata": {},
   "outputs": [],
   "source": [
    "def equation(x, y):\n",
    "    return 2 * x - 3 + y\n",
    "\n",
    "# y(0) = 0\n",
    "def answer(x):\n",
    "    return 1 - 2 * x - np.exp(x)"
   ]
  },
  {
   "cell_type": "markdown",
   "id": "af08f4b2",
   "metadata": {},
   "source": [
    "## Зависимость погрешности решения ОДУ от шага интегрирования"
   ]
  },
  {
   "cell_type": "code",
   "execution_count": null,
   "id": "f3e15d28",
   "metadata": {},
   "outputs": [
    {
     "name": "stderr",
     "output_type": "stream",
     "text": [
      "/tmp/ipykernel_25327/883071621.py:13: UserWarning: No artists with labels found to put in legend.  Note that artists whose label start with an underscore are ignored when legend() is called with no argument.\n",
      "  plt.legend()\n"
     ]
    },
    {
     "data": {
      "image/png": "[encoded data removed]",
      "text/plain": [
       "<Figure size 432x288 with 1 Axes>"
      ]
     },
     "metadata": {
      "needs_background": "light"
     },
     "output_type": "display_data"
    }
   ],
   "source": [
    "data = pd.read_csv('data/part_error.csv')\n",
    "\n",
    "plt.xlabel('Шаг интегрирования')\n",
    "plt.ylabel('Погрешность')\n",
    "plt.xscale('log', base=2)\n",
    "plt.yscale('log', base=2)\n",
    "\n",
    "error = data['error']\n",
    "partitions = data['part']\n",
    "plt.plot(partitions, error, color='r')\n",
    "\n",
    "plt.grid(True)\n",
    "plt.legend()\n",
    "plt.show()"
   ]
  }
 ],
 "metadata": {
  "kernelspec": {
   "display_name": "Python 3",
   "language": "python",
   "name": "python3"
  },
  "language_info": {
   "codemirror_mode": {
    "name": "ipython",
    "version": 3
   },
   "file_extension": ".py",
   "mimetype": "text/x-python",
   "name": "python",
   "nbconvert_exporter": "python",
   "pygments_lexer": "ipython3",
   "version": "3.10.12"
  }
 },
 "nbformat": 4,
 "nbformat_minor": 5
}
