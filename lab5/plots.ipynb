{
 "cells": [
  {
   "cell_type": "markdown",
   "id": "b70ed999",
   "metadata": {},
   "source": [
    "# Численное решение ОДУ"
   ]
  },
  {
   "cell_type": "markdown",
   "id": "0c8a11f8",
   "metadata": {},
   "source": [
    "## Погрешность от шага интегрирования"
   ]
  },
  {
   "cell_type": "code",
   "execution_count": 1,
   "id": "9ea9be28",
   "metadata": {},
   "outputs": [
    {
     "name": "stderr",
     "output_type": "stream",
     "text": [
      "/home/alexander/.local/lib/python3.10/site-packages/matplotlib/projections/__init__.py:63: UserWarning: Unable to import Axes3D. This may be due to multiple versions of Matplotlib being installed (e.g. as a system package and as a pip package). As a result, the 3D projection is not available.\n",
      "  warnings.warn(\"Unable to import Axes3D. This may be due to multiple versions of \"\n"
     ]
    }
   ],
   "source": [
    "import numpy as np\n",
    "import pandas as pd\n",
    "import matplotlib.pyplot as plt"
   ]
  },
  {
   "cell_type": "code",
   "execution_count": null,
   "id": "b2399cfa",
   "metadata": {},
   "outputs": [
    {
     "data": {
      "image/png": "[encoded data removed]",
      "text/plain": [
       "<Figure size 432x288 with 1 Axes>"
      ]
     },
     "metadata": {
      "needs_background": "light"
     },
     "output_type": "display_data"
    }
   ],
   "source": [
    "data = pd.read_csv('data/h_error.csv')\n",
    "h = data['h']\n",
    "err = data['error']\n",
    "plt.plot(h, err, color='red')\n",
    "plt.xlabel(\"Шаг интегрирования\")\n",
    "plt.ylabel(\"Абсолютная погрешность\")\n",
    "plt.xscale('log', base=2)\n",
    "plt.yscale('log', base=2)\n",
    "plt.grid(True)\n",
    "plt.show()"
   ]
  }
 ],
 "metadata": {
  "kernelspec": {
   "display_name": "Python 3",
   "language": "python",
   "name": "python3"
  },
  "language_info": {
   "codemirror_mode": {
    "name": "ipython",
    "version": 3
   },
   "file_extension": ".py",
   "mimetype": "text/x-python",
   "name": "python",
   "nbconvert_exporter": "python",
   "pygments_lexer": "ipython3",
   "version": "3.10.12"
  }
 },
 "nbformat": 4,
 "nbformat_minor": 5
}
